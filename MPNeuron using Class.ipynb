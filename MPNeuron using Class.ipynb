{
 "nbformat": 4,
 "nbformat_minor": 2,
 "metadata": {
  "language_info": {
   "name": "python",
   "codemirror_mode": {
    "name": "ipython",
    "version": 3
   },
   "version": "3.7.3-final"
  },
  "orig_nbformat": 2,
  "file_extension": ".py",
  "mimetype": "text/x-python",
  "name": "python",
  "npconvert_exporter": "python",
  "pygments_lexer": "ipython3",
  "version": 3,
  "kernelspec": {
   "name": "python37364bitbaseconda6f902c76863b4b3ab7cd5fd0c0955139",
   "display_name": "Python 3.7.3 64-bit ('base': conda)"
  }
 },
 "cells": [
  {
   "cell_type": "code",
   "execution_count": 1,
   "metadata": {},
   "outputs": [],
   "source": [
    "import numpy as np"
   ]
  },
  {
   "cell_type": "code",
   "execution_count": 2,
   "metadata": {},
   "outputs": [],
   "source": [
    "class MPNeuron:\n",
    "\n",
    "    def __init__(self):\n",
    "        self.b = None\n",
    "\n",
    "    def model(self,x):\n",
    "        return(sum(x) >= self.b)\n",
    "\n",
    "    def predict(self,X):\n",
    "        Y = []\n",
    "        for x in X:\n",
    "            result = self.model(x)\n",
    "            Y.append(result)\n",
    "        return np.array(Y)\n",
    "    def fit(self,X,Y):\n",
    "        accuracy = {}\n",
    "\n",
    "        for b in range(X.shape[1] + 1):\n",
    "            self.b = b\n",
    "            Y_pred = self.predict(X)\n",
    "            accuracy[b] = accuracy_score(Y_pred,Y)\n",
    "        best_b = max(accuracy,key = accuracy.get)\n",
    "        self.b = best_b\n",
    "\n",
    "        print(best_b)\n",
    "        print(accuracy[best_b])"
   ]
  },
  {
   "cell_type": "code",
   "execution_count": null,
   "metadata": {},
   "outputs": [],
   "source": [
    "mp_neuron = MPNeuron()\n",
    "mp_neuron.fit(X,Y)"
   ]
  },
  {
   "cell_type": "code",
   "execution_count": null,
   "metadata": {},
   "outputs": [],
   "source": [
    "mp_neuron.predict(X_test,Y_test)"
   ]
  },
  {
   "cell_type": "code",
   "execution_count": 10,
   "metadata": {},
   "outputs": [],
   "source": [
    "class Preceptron:\n",
    "\n",
    "    def __init__(self):\n",
    "        self.b = None\n",
    "        self.w = None\n",
    "\n",
    "    def model(self,x):\n",
    "            return 1 if (np.dot(self.w,x) >= self.b) else 0\n",
    "\n",
    "    def predict(self,X):\n",
    "        Y = []\n",
    "        for x in X:\n",
    "            result = self.model(x)\n",
    "            Y.append(result)\n",
    "        return np.array(Y)\n",
    "        \n",
    "    def fit(self,X,Y,epochs):\n",
    "\n",
    "        accuracy = {}\n",
    "        max_accuracy = 0 # Calculating maximum accuracy\n",
    "\n",
    "        for i in range(epochs):\n",
    "\n",
    "            self.w = np.ones(X.shape[1])\n",
    "            self.b = 0\n",
    "\n",
    "            for x,y in zip(X,Y):\n",
    "                y_pred = self.model(x)\n",
    "                if (y==1) and (y_pred==0):\n",
    "                    self.w += x\n",
    "                    self.b += 1\n",
    "                elif (y==0) and (y_pred==1):\n",
    "                    self.w -= x\n",
    "                    self.b -= 1\n",
    "                accuracy[i] = accuracy_score(self.predict(X),Y)\n",
    "                if(accuracy[i] > max_accuracy):\n",
    "                    max_accuracy = accuracy[i]\n",
    "                    checkpoint_w = self.w    # Checkpointing \n",
    "                    checkpoint_b = self.b\n",
    "\n",
    "                self.w = checkpoint_w\n",
    "                self.b = checkpoint_b\n",
    "\n",
    "        \n",
    "        plt.plot(accuracy.values())\n",
    "        plt.show()"
   ]
  },
  {
   "cell_type": "code",
   "execution_count": 8,
   "metadata": {},
   "outputs": [
    {
     "output_type": "error",
     "ename": "TypeError",
     "evalue": "'Preceptron' object is not callable",
     "traceback": [
      "\u001b[1;31m---------------------------------------------------------------------------\u001b[0m",
      "\u001b[1;31mTypeError\u001b[0m                                 Traceback (most recent call last)",
      "\u001b[1;32m<ipython-input-8-345b2ba20d30>\u001b[0m in \u001b[0;36m<module>\u001b[1;34m\u001b[0m\n\u001b[1;32m----> 1\u001b[1;33m \u001b[0mpreceptron\u001b[0m \u001b[1;33m=\u001b[0m \u001b[0mPreceptron\u001b[0m\u001b[1;33m(\u001b[0m\u001b[1;33m)\u001b[0m\u001b[1;33m\u001b[0m\u001b[1;33m\u001b[0m\u001b[0m\n\u001b[0m",
      "\u001b[1;31mTypeError\u001b[0m: 'Preceptron' object is not callable"
     ]
    }
   ],
   "source": [
    "preceptron = Preceptron()"
   ]
  },
  {
   "cell_type": "code",
   "execution_count": null,
   "metadata": {},
   "outputs": [],
   "source": [
    "preceptron.fit(X,Y)\n",
    "preceptron.predict(X_test)"
   ]
  },
  {
   "cell_type": "code",
   "execution_count": null,
   "metadata": {},
   "outputs": [],
   "source": [
    "class Preceptron:\n",
    "\n",
    "    def __init__(self):\n",
    "        self.b = None\n",
    "        self.w = None\n",
    "\n",
    "    def model(self,x):\n",
    "            return 1 if (np.dot(self.w,x) >= self.b) else 0\n",
    "\n",
    "    def predict(self,X):\n",
    "        Y = []\n",
    "        for x in X:\n",
    "            result = self.model(x)\n",
    "            Y.append(result)\n",
    "        return np.array(Y)\n",
    "        \n",
    "    def fit(self,X,Y,epochs,lr):\n",
    "\n",
    "        accuracy = {}\n",
    "        max_accuracy = 0 # Calculating maximum accuracy\n",
    "\n",
    "        for i in range(epochs):\n",
    "\n",
    "            self.w = np.ones(X.shape[1])\n",
    "            self.b = 0\n",
    "\n",
    "            for x,y in zip(X,Y):\n",
    "                y_pred = self.model(x)\n",
    "                if (y==1) and (y_pred==0):\n",
    "                    self.w += lr*x # introducing Learning rate\n",
    "                    self.b += lr*1\n",
    "                elif (y==0) and (y_pred==1):\n",
    "                    self.w -= lr*x\n",
    "                    self.b -= lr*1\n",
    "                accuracy[i] = accuracy_score(self.predict(X),Y)\n",
    "                if(accuracy[i] > max_accuracy):\n",
    "                    max_accuracy = accuracy[i]\n",
    "                    checkpoint_w = self.w    # Checkpointing \n",
    "                    checkpoint_b = self.b\n",
    "\n",
    "                self.w = checkpoint_w\n",
    "                self.b = checkpoint_b\n",
    "\n",
    "        \n",
    "        plt.plot(accuracy.values())\n",
    "        plt.show()"
   ]
  },
  {
   "cell_type": "code",
   "execution_count": null,
   "metadata": {},
   "outputs": [],
   "source": [
    "plt.plot(Preceptron.w)\n",
    "plt.show()"
   ]
  },
  {
   "cell_type": "markdown",
   "metadata": {},
   "source": [
    "# Adding Video : embedding matplotlib animations in jupyter notebooks (Weight animations)\n",
    "http://louistiao.me/posts/notebooks/embedding-matplotlib-animations-in-jupyter-notebooks/"
   ]
  },
  {
   "cell_type": "code",
   "execution_count": null,
   "metadata": {},
   "outputs": [],
   "source": []
  },
  {
   "cell_type": "code",
   "execution_count": null,
   "metadata": {},
   "outputs": [],
   "source": []
  }
 ]
}